{
  "cells" : "#cells",
  "metadata":{
    "kernelspec":{
      "language":"python",
      "name":"python3"
    },
    "language_info":{
      "name":"python",
      "version":"3.11"
    }
  },
  "nbformat": 4,
  "nbformat_minor": 0
}